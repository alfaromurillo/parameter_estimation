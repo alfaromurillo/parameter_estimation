{
 "cells": [
  {
   "cell_type": "markdown",
   "metadata": {},
   "source": [
    "\n",
    "# Preliminaries\n",
    "\n"
   ]
  },
  {
   "cell_type": "markdown",
   "metadata": {},
   "source": [
    "\n",
    "## Importing libraries\n",
    "\n"
   ]
  },
  {
   "cell_type": "code",
   "execution_count": 1,
   "metadata": {},
   "outputs": [],
   "source": [
    "import numpy\n",
    "from matplotlib import pyplot\n",
    "from ipywidgets import interact\n",
    "from scipy.integrate import odeint\n",
    "from scipy.optimize import minimize\n",
    "from scipy import stats"
   ]
  },
  {
   "cell_type": "markdown",
   "metadata": {},
   "source": [
    "\n",
    "## Information from literature\n",
    "\n"
   ]
  },
  {
   "cell_type": "code",
   "execution_count": 1,
   "metadata": {},
   "outputs": [],
   "source": [
    "exposure_to_rash = 17\n",
    "rash = 5.5\n",
    "# Source: https://www.cdc.gov/vaccines/pubs/pinkbook/downloads/meas.pdf\n",
    "\n",
    "infectious_without_rash = 4\n",
    "latent_period = exposure_to_rash - infectious_without_rash\n",
    "infectious_period = rash + 2*infectious_without_rash\n",
    "# Source: https://www.cdc.gov/measles/about/transmission.html\n",
    "\n",
    "VE = 0.93\n",
    "# Source: https://www.cdc.gov/measles/vaccination.html\n",
    "\n",
    "coverage = 0.14\n",
    "population = 32630 # Amish population\n",
    "outbreak_final_size = 383\n",
    "epidemic_peak = 17\n",
    "# Source: https://www.nejm.org/doi/pdf/10.1056/NEJMoa1602295"
   ]
  },
  {
   "cell_type": "markdown",
   "metadata": {},
   "source": [
    "\n",
    "## Measles model\n",
    "\n"
   ]
  },
  {
   "cell_type": "code",
   "execution_count": 1,
   "metadata": {},
   "outputs": [],
   "source": [
    "def f(x, t, alpha, beta, gamma):\n",
    "    S = x[0]\n",
    "    L = x[1]\n",
    "    I = x[2]\n",
    "    R = x[3]\n",
    "\n",
    "    N = S + L + I + R\n",
    "\n",
    "    dS_dt = - beta*I/N*S\n",
    "    dL_dt = (beta*I/N)*S - alpha*L\n",
    "    dI_dt = alpha*L - gamma*I\n",
    "    dR_dt = gamma*I\n",
    "\n",
    "    return [dS_dt, dL_dt, dI_dt, dR_dt]\n",
    "\n",
    "\n",
    "def compute_ODE(alpha, beta, gamma, p, N):\n",
    "\n",
    "    S0 = (1-p)*N - 1\n",
    "    L0 = 0\n",
    "    I0 = 1\n",
    "    R0 = p*N\n",
    "\n",
    "    ts = numpy.arange(0, 366)\n",
    "    x0 = [S0, L0, I0, R0]\n",
    "    xs = odeint(f, x0, ts, (alpha, beta, gamma))\n",
    "\n",
    "    return xs\n",
    "\n",
    "\n",
    "def plot(xs):\n",
    "    ts = numpy.arange(0, 366)\n",
    "    pyplot.plot(ts, xs[:, 2])\n",
    "    pyplot.legend([\"Infected\"])\n",
    "    pyplot.xlabel(\"Time (days)\")\n",
    "    pyplot.ylim([0, 400])\n",
    "    pyplot.show()\n",
    "\n",
    "    pyplot.plot(ts, xs[:, [0, -1]])\n",
    "    pyplot.legend([\"Susceptible\", \"Recovered\"])\n",
    "    pyplot.xlabel(\"Time (days)\")\n",
    "    pyplot.ylim([0, numpy.sum(xs[0])])\n",
    "    pyplot.show()\n",
    "\n",
    "\n",
    "def print_info(xs):\n",
    "    final_size = xs[-1, -1] - xs[0, -1]\n",
    "    print(\"Final size outbreak: {:.0f}\".format(final_size))\n",
    "\n",
    "\n",
    "def model(beta,\n",
    "          alpha=1/latent_period,\n",
    "          gamma=1/infectious_period,\n",
    "          p=coverage*VE,\n",
    "          N=population):\n",
    "    xs = compute_ODE(alpha, beta, gamma, p, N)\n",
    "    plot(xs)\n",
    "    print_info(xs)"
   ]
  },
  {
   "cell_type": "markdown",
   "metadata": {},
   "source": [
    "\n",
    "# Estimating $\\beta$ with $\\mathcal{R}_{0}$\n",
    "\n"
   ]
  },
  {
   "cell_type": "markdown",
   "metadata": {},
   "source": [
    "\n",
    "## Estimating $\\beta$ with a single $\\mathcal{R}_{0}$\n",
    "\n"
   ]
  },
  {
   "cell_type": "code",
   "execution_count": 1,
   "metadata": {},
   "outputs": [],
   "source": [
    "R_0 = 15\n",
    "bar_beta = R_0 / infectious_period\n",
    "bar_beta"
   ]
  },
  {
   "cell_type": "code",
   "execution_count": 1,
   "metadata": {},
   "outputs": [],
   "source": [
    "model(bar_beta)"
   ]
  },
  {
   "cell_type": "markdown",
   "metadata": {},
   "source": [
    "\n",
    "## Estimating $\\beta$ with an $\\mathcal{R}_{0}$ range\n",
    "\n"
   ]
  },
  {
   "cell_type": "code",
   "execution_count": 1,
   "metadata": {},
   "outputs": [],
   "source": [
    "R_0_range = [12, 18]\n",
    "bar_beta_range = [R_0_range[i] / infectious_period for i in [0, 1]]\n",
    "bar_beta_range"
   ]
  },
  {
   "cell_type": "code",
   "execution_count": 1,
   "metadata": {},
   "outputs": [],
   "source": [
    "[model(beta) for beta in bar_beta_range]"
   ]
  },
  {
   "cell_type": "markdown",
   "metadata": {},
   "source": [
    "Back to presentation\n",
    "\n"
   ]
  },
  {
   "cell_type": "markdown",
   "metadata": {},
   "source": [
    "\n",
    "# Adjusting $\\beta$ to match epidemic size\n",
    "\n"
   ]
  },
  {
   "cell_type": "code",
   "execution_count": 1,
   "metadata": {},
   "outputs": [],
   "source": [
    "interact(model, beta=(0.01, 1.1, 0.001))"
   ]
  },
  {
   "cell_type": "markdown",
   "metadata": {},
   "source": [
    "Back to presentation\n",
    "\n"
   ]
  },
  {
   "cell_type": "markdown",
   "metadata": {},
   "source": [
    "\n",
    "# Bisection approach\n",
    "\n"
   ]
  },
  {
   "cell_type": "code",
   "execution_count": 1,
   "metadata": {},
   "outputs": [],
   "source": [
    "def compute_final_size(beta, alpha=1/latent_period,\n",
    "                       gamma=1/infectious_period, p=coverage*VE,\n",
    "                       N=population):\n",
    "    xs = compute_ODE(alpha, beta, gamma, p, N)\n",
    "    return xs[-1, -1] - xs[0, -1]"
   ]
  },
  {
   "cell_type": "code",
   "execution_count": 1,
   "metadata": {},
   "outputs": [],
   "source": [
    "compute_final_size(0.8)"
   ]
  },
  {
   "cell_type": "code",
   "execution_count": 1,
   "metadata": {},
   "outputs": [],
   "source": [
    "compute_final_size(0.01)"
   ]
  },
  {
   "cell_type": "code",
   "execution_count": 1,
   "metadata": {},
   "outputs": [],
   "source": [
    "tolerance = 0.5\n",
    "\n",
    "beta1 = 0.1\n",
    "beta2 = 0.8\n",
    "\n",
    "bar_beta = (beta1 + beta2)/2\n",
    "\n",
    "while numpy.abs(compute_final_size(bar_beta) - outbreak_final_size) > tolerance:\n",
    "    if compute_final_size(bar_beta) < outbreak_final_size:\n",
    "        beta1 = bar_beta\n",
    "    else:\n",
    "        beta2 = bar_beta\n",
    "\n",
    "    bar_beta = (beta1 + beta2)/2"
   ]
  },
  {
   "cell_type": "code",
   "execution_count": 1,
   "metadata": {},
   "outputs": [],
   "source": [
    "bar_beta"
   ]
  },
  {
   "cell_type": "code",
   "execution_count": 1,
   "metadata": {},
   "outputs": [],
   "source": [
    "compute_final_size(bar_beta)"
   ]
  },
  {
   "cell_type": "code",
   "execution_count": 1,
   "metadata": {},
   "outputs": [],
   "source": [
    "model(bar_beta)"
   ]
  },
  {
   "cell_type": "markdown",
   "metadata": {},
   "source": [
    "Back to presentation\n",
    "\n"
   ]
  },
  {
   "cell_type": "markdown",
   "metadata": {},
   "source": [
    "\n",
    "# Least squares method\n",
    "\n"
   ]
  },
  {
   "cell_type": "code",
   "execution_count": 1,
   "metadata": {},
   "outputs": [],
   "source": [
    "def function_to_minize(variables):\n",
    "    beta = variables[0]\n",
    "    N = variables[1]\n",
    "\n",
    "    final_size = compute_final_size(beta=beta, N=N)\n",
    "    return (final_size-outbreak_final_size)**2\n",
    "\n",
    "minimize(function_to_minize, [0.9, 400])"
   ]
  },
  {
   "cell_type": "code",
   "execution_count": 1,
   "metadata": {},
   "outputs": [],
   "source": [
    "model(beta=2.34228733, N=440.33110651)"
   ]
  },
  {
   "cell_type": "markdown",
   "metadata": {},
   "source": [
    "How about another initial guess\n",
    "\n"
   ]
  },
  {
   "cell_type": "code",
   "execution_count": 1,
   "metadata": {},
   "outputs": [],
   "source": [
    "minimize(function_to_minize, [0.5, 3000])"
   ]
  },
  {
   "cell_type": "code",
   "execution_count": 1,
   "metadata": {},
   "outputs": [],
   "source": [
    "model(beta=1.21481947e-01, N=2.93685955e+03)"
   ]
  },
  {
   "cell_type": "markdown",
   "metadata": {},
   "source": [
    "Back to the presentation\n",
    "\n"
   ]
  },
  {
   "cell_type": "markdown",
   "metadata": {},
   "source": [
    "\n",
    "# Informing on the peak of the epidemic\n",
    "\n"
   ]
  },
  {
   "cell_type": "code",
   "execution_count": 1,
   "metadata": {},
   "outputs": [],
   "source": [
    "def print_info(xs):\n",
    "    final_size = xs[-1, -1] - xs[0, -1]\n",
    "    print(\"Final size outbreak: {:.0f}\".format(final_size))\n",
    "\n",
    "    peak = numpy.max(xs[:, 2])\n",
    "    print(\"Epidemic peak: {:.0f}\".format(peak))"
   ]
  },
  {
   "cell_type": "code",
   "execution_count": 1,
   "metadata": {},
   "outputs": [],
   "source": [
    "model(beta=2.34228733, N=440)"
   ]
  },
  {
   "cell_type": "markdown",
   "metadata": {},
   "source": [
    "Back to the presentation\n",
    "\n"
   ]
  },
  {
   "cell_type": "markdown",
   "metadata": {},
   "source": [
    "\n",
    "# Least squares sum\n",
    "\n"
   ]
  },
  {
   "cell_type": "code",
   "execution_count": 1,
   "metadata": {},
   "outputs": [],
   "source": [
    "def compute_peak(beta, alpha=1/latent_period,\n",
    "                 gamma=1/infectious_period, p=coverage*VE,\n",
    "                 N=population):\n",
    "    xs = compute_ODE(alpha, beta, gamma, p, N)\n",
    "    return numpy.max(xs[:, 2])"
   ]
  },
  {
   "cell_type": "code",
   "execution_count": 1,
   "metadata": {},
   "outputs": [],
   "source": [
    "def function_to_minize(variables):\n",
    "    beta = variables[0]\n",
    "    N = variables[1]\n",
    "\n",
    "    final_size = compute_final_size(beta=beta, N=N)\n",
    "    peak = compute_peak(beta=beta, N=N)\n",
    "    return (final_size-outbreak_final_size)**2 + (peak-epidemic_peak)**2\n",
    "\n",
    "minimize(function_to_minize, [2.3, 440])"
   ]
  },
  {
   "cell_type": "code",
   "execution_count": 1,
   "metadata": {},
   "outputs": [],
   "source": [
    "model(beta=2.41907583e-01, N=4.39793937e+02)"
   ]
  },
  {
   "cell_type": "markdown",
   "metadata": {},
   "source": [
    "Back to presentation\n",
    "\n"
   ]
  },
  {
   "cell_type": "markdown",
   "metadata": {},
   "source": [
    "\n",
    "# Penalizing least squares sum\n",
    "\n"
   ]
  },
  {
   "cell_type": "code",
   "execution_count": 1,
   "metadata": {},
   "outputs": [],
   "source": [
    "def function_to_minize(variables):\n",
    "    beta = variables[0]\n",
    "    N = variables[1]\n",
    "\n",
    "    final_size = compute_final_size(beta=beta, N=N)\n",
    "    peak = compute_peak(beta=beta, N=N)\n",
    "    return (final_size-outbreak_final_size)**2 + 20*(peak-epidemic_peak)**2\n",
    "\n",
    "minimize(function_to_minize, [2.3, 440])"
   ]
  },
  {
   "cell_type": "markdown",
   "metadata": {},
   "source": [
    "\n",
    "## Solving negative values problem\n",
    "\n"
   ]
  },
  {
   "cell_type": "code",
   "execution_count": 1,
   "metadata": {},
   "outputs": [],
   "source": [
    "def function_to_minize(variables):\n",
    "    beta = variables[0]\n",
    "    N = variables[1]\n",
    "\n",
    "    final_size = compute_final_size(beta=beta, N=N)\n",
    "    peak = compute_peak(beta=beta, N=N)\n",
    "    return (final_size-outbreak_final_size)**2 + 20*(peak-epidemic_peak)**2\n",
    "\n",
    "minimize(function_to_minize, [2.3, 440], bounds=[(0, 10), (outbreak_final_size, population)])"
   ]
  },
  {
   "cell_type": "code",
   "execution_count": 1,
   "metadata": {},
   "outputs": [],
   "source": [
    "model(beta=1.36960311e-01, N=7.53439081e+02)"
   ]
  },
  {
   "cell_type": "markdown",
   "metadata": {},
   "source": [
    "\n",
    "## Did we solve the multiple solution problem?\n",
    "\n"
   ]
  },
  {
   "cell_type": "code",
   "execution_count": 1,
   "metadata": {},
   "outputs": [],
   "source": [
    "minimize(function_to_minize, [0.5, 3000])"
   ]
  },
  {
   "cell_type": "code",
   "execution_count": 1,
   "metadata": {},
   "outputs": [],
   "source": [
    "model(beta=1.36883891e-01, N=7.55183251e+02)"
   ]
  },
  {
   "cell_type": "markdown",
   "metadata": {},
   "source": [
    "Back to presentation\n",
    "\n"
   ]
  },
  {
   "cell_type": "markdown",
   "metadata": {},
   "source": [
    "\n",
    "# Maximum likelihood\n",
    "\n"
   ]
  },
  {
   "cell_type": "code",
   "execution_count": 31,
   "metadata": {},
   "outputs": [
    {
     "data": {
      "text/plain": [
       "382.9975732"
      ]
     },
     "execution_count": 31,
     "metadata": {},
     "output_type": "execute_result"
    }
   ],
   "source": [
    "shape = 1547.59\n",
    "scale = 0.24748\n",
    "stats.gamma.mean(shape, scale=scale)"
   ]
  },
  {
   "cell_type": "code",
   "execution_count": 32,
   "metadata": {},
   "outputs": [
    {
     "data": {
      "text/plain": [
       "0.9500154195518774"
      ]
     },
     "execution_count": 32,
     "metadata": {},
     "output_type": "execute_result"
    }
   ],
   "source": [
    "stats.gamma.cdf(400, shape, scale=scale) - stats.gamma.cdf(360, shape, scale=scale)"
   ]
  },
  {
   "cell_type": "code",
   "execution_count": 33,
   "metadata": {},
   "outputs": [
    {
     "data": {
      "image/png": "[encoded data removed]",
      "text/plain": [
       "<Figure size 432x288 with 1 Axes>"
      ]
     },
     "metadata": {},
     "output_type": "display_data"
    }
   ],
   "source": [
    "ys = numpy.linspace(350, 420, 1000)\n",
    "pyplot.plot(ys, stats.gamma.pdf(ys, shape, scale=scale))\n",
    "pyplot.xlabel(\"Outbreak size\")\n",
    "pyplot.show()"
   ]
  },
  {
   "cell_type": "markdown",
   "metadata": {},
   "source": [
    "Back to presentation\n",
    "\n"
   ]
  }
 ],
 "metadata": {
  "kernelspec": {
   "display_name": "Python 3",
   "language": "python",
   "name": "python3"
  },
  "language_info": {
   "codemirror_mode": {
    "name": "ipython",
    "version": 3
   },
   "file_extension": ".py",
   "mimetype": "text/x-python",
   "name": "python",
   "nbconvert_exporter": "python",
   "pygments_lexer": "ipython3",
   "version": "3.6.5"
  },
  "org": null
 },
 "nbformat": 4,
 "nbformat_minor": 1
}
