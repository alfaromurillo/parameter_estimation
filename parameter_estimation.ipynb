{
 "cells": [
  {
   "cell_type": "markdown",
   "metadata": {},
   "source": [
    "\n",
    "# Preliminaries\n",
    "\n"
   ]
  },
  {
   "cell_type": "code",
   "execution_count": 1,
   "metadata": {},
   "outputs": [],
   "source": [
    "import numpy\n",
    "import pymc3\n",
    "from matplotlib import pyplot\n",
    "from scipy.integrate import odeint\n",
    "from scipy.optimize import minimize\n",
    "from ipywidgets import interact"
   ]
  },
  {
   "cell_type": "code",
   "execution_count": 98,
   "metadata": {},
   "outputs": [],
   "source": [
    "exposure_to_rash = 17\n",
    "exposure_to_rash_range = [7, 21]\n",
    "rash = 5.5 # 5 to 6 days\n",
    "rash_range = [5, 6]\n",
    "# https://www.cdc.gov/vaccines/pubs/pinkbook/downloads/meas.pdf\n",
    "\n",
    "infectious_without_rash = 4\n",
    "# https://www.cdc.gov/measles/about/transmission.html\n",
    "infectious_without_rash_range = [3, 5]\n",
    "\n",
    "latent_period = exposure_to_rash - infectious_without_rash\n",
    "latent_period_range = [exposure_to_rash_range[0] - infectious_without_rash_range[1],\n",
    "                       exposure_to_rash_range[1] - infectious_without_rash_range[0]]\n",
    "\n",
    "infectious_period = rash + 2*infectious_without_rash\n",
    "infectious_period_range = [rash_range[0] + 2*infectious_without_rash_range[0],\n",
    "                           rash_range[1] + 2*infectious_without_rash_range[1]]\n",
    "\n",
    "outbreak_final_size = 383\n",
    "epidemic_peak = 17"
   ]
  },
  {
   "cell_type": "code",
   "execution_count": 99,
   "metadata": {},
   "outputs": [
    {
     "data": {
      "application/vnd.jupyter.widget-view+json": {
       "model_id": "943fd4ca7f2c47ba80b60f952b8a2676",
       "version_major": 2,
       "version_minor": 0
      },
      "text/html": [
       "<p>Failed to display Jupyter Widget of type <code>interactive</code>.</p>\n",
       "<p>\n",
       "  If you're reading this message in the Jupyter Notebook or JupyterLab Notebook, it may mean\n",
       "  that the widgets JavaScript is still loading. If this message persists, it\n",
       "  likely means that the widgets JavaScript library is either not installed or\n",
       "  not enabled. See the <a href=\"https://ipywidgets.readthedocs.io/en/stable/user_install.html\">Jupyter\n",
       "  Widgets Documentation</a> for setup instructions.\n",
       "</p>\n",
       "<p>\n",
       "  If you're reading this message in another frontend (for example, a static\n",
       "  rendering on GitHub or <a href=\"https://nbviewer.jupyter.org/\">NBViewer</a>),\n",
       "  it may mean that your frontend doesn't currently support widgets.\n",
       "</p>\n"
      ],
      "text/plain": [
       "interactive(children=(FloatSlider(value=0.2, description='beta', max=0.3, min=0.01, step=0.001), FloatSlider(value=0.02, description='at_risk', max=0.02, min=0.005, step=0.005), FloatSlider(value=13.0, description='one_over_alpha', max=30.0, min=2.0, step=0.5), FloatSlider(value=13.5, description='one_over_gamma', max=30.0, min=2.0, step=0.5), Output()), _dom_classes=('widget-interact',))"
      ]
     },
     "metadata": {},
     "output_type": "display_data"
    },
    {
     "data": {
      "text/plain": [
       "<function __main__.interact_function>"
      ]
     },
     "execution_count": 99,
     "metadata": {},
     "output_type": "execute_result"
    }
   ],
   "source": [
    "def f(x, t, alpha, beta, gamma):\n",
    "    S = x[0]\n",
    "    L = x[1]\n",
    "    I = x[2]\n",
    "    R = x[3]\n",
    "\n",
    "    N = S + L + I + R\n",
    "\n",
    "    dS_dt = - beta*I/N*S\n",
    "    dL_dt = (beta*I/N)*S - alpha*L\n",
    "    dI_dt = alpha*L - gamma*I\n",
    "    dR_dt = gamma*I\n",
    "\n",
    "    return [dS_dt, dL_dt, dI_dt, dR_dt]\n",
    "\n",
    "def model(beta, at_risk, one_over_alpha=latent_period, one_over_gamma=infectious_period):\n",
    "\n",
    "    alpha = 1/one_over_alpha\n",
    "    gamma = 1/one_over_gamma\n",
    "\n",
    "    population = 32630 # Amish population\n",
    "\n",
    "    S0 = at_risk * population\n",
    "    L0 = 0\n",
    "    I0 = 1\n",
    "    R0 = 0\n",
    "\n",
    "    ts = numpy.arange(0, 366)\n",
    "    x0 = [S0, L0, I0, R0]\n",
    "    xs = odeint(f, x0, ts, (alpha, beta, gamma))\n",
    "\n",
    "    return xs\n",
    "\n",
    "def plot(xs):\n",
    "    ts = numpy.arange(0, 366)\n",
    "    pyplot.plot(ts, xs[:, 2])\n",
    "    pyplot.legend([\"Infected\"])\n",
    "    pyplot.xlabel(\"Time (days)\")\n",
    "    pyplot.ylim([0, 400])\n",
    "    pyplot.show()\n",
    "\n",
    "    pyplot.plot(ts, xs[:, [0, -1]])\n",
    "    pyplot.legend([\"Susceptible\", \"Recovered\"])\n",
    "    pyplot.xlabel(\"Time (days)\")\n",
    "    pyplot.ylim([0, numpy.sum(xs[0])])\n",
    "    pyplot.show()\n",
    "\n",
    "def print_info(xs):\n",
    "    final_size = xs[-1, -1]\n",
    "    print(\"Final size outbreak: {:.0f}\".format(final_size))\n",
    "\n",
    "    peak = numpy.max(xs[:, 2])\n",
    "    print(\"Epidemic peak: {:.0f}\".format(peak))\n",
    "\n",
    "def interact_function(beta=0.2, at_risk=0.05,\n",
    "                      one_over_alpha=latent_period,\n",
    "                      one_over_gamma=infectious_period):\n",
    "    xs = model(beta, at_risk, one_over_alpha, one_over_gamma)\n",
    "    plot(xs)\n",
    "    print_info(xs)\n",
    "\n",
    "interact(interact_function,\n",
    "         beta=(0.01, 0.3, 0.001),\n",
    "         at_risk=(0.005, 0.02, 0.005),\n",
    "         one_over_alpha=(2.0, 30.0, 0.5),\n",
    "         one_over_gamma=(2.0, 30.0, 0.5))"
   ]
  },
  {
   "cell_type": "code",
   "execution_count": 100,
   "metadata": {},
   "outputs": [
    {
     "data": {
      "text/plain": [
       "      fun: 2.6615718501716585e-08\n",
       " hess_inv: <2x2 LbfgsInvHessProduct with dtype=float64>\n",
       "      jac: array([ -3.83185833e-06,   4.16557625e-04])\n",
       "  message: b'CONVERGENCE: REL_REDUCTION_OF_F_<=_FACTR*EPSMCH'\n",
       "     nfev: 39\n",
       "      nit: 6\n",
       "   status: 0\n",
       "  success: True\n",
       "        x: array([ 0.96241593,  0.01170704])"
      ]
     },
     "execution_count": 100,
     "metadata": {},
     "output_type": "execute_result"
    }
   ],
   "source": [
    "def function_to_minize(variables):\n",
    "    beta = variables[0]\n",
    "    at_risk = variables[1]\n",
    "    xs = model(beta=beta, at_risk=at_risk)\n",
    "    final_size = xs[-1, -1]\n",
    "    peak = numpy.max(xs[:, 2])\n",
    "    return (final_size-outbreak_final_size)**2\n",
    "\n",
    "minimize(function_to_minize, [0.2, 0.05], bounds=[(0, 1), (0.009, 0.5)])"
   ]
  },
  {
   "cell_type": "code",
   "execution_count": 1,
   "metadata": {},
   "outputs": [],
   "source": [
    "interact_function(beta=, at_risk=)"
   ]
  },
  {
   "cell_type": "code",
   "execution_count": 1,
   "metadata": {},
   "outputs": [],
   "source": [
    "def function_to_minize(variables):\n",
    "    beta = variables[0]\n",
    "    at_risk = variables[1]\n",
    "    xs = model(beta=beta, at_risk=at_risk)\n",
    "    final_size = xs[-1, -1]\n",
    "    peak = numpy.max(xs[:, 2])\n",
    "    return (final_size-outbreak_final_size)**2 + (peak-epidemic_peak)**2 + (xs[5*30, 2])**2\n",
    "\n",
    "minimize(function_to_minize, [0.2, 0.05], bounds=[(0, 1), (0.009, 0.5)])"
   ]
  },
  {
   "cell_type": "code",
   "execution_count": 1,
   "metadata": {},
   "outputs": [],
   "source": [
    "interact_function(beta=, at_risk=)"
   ]
  },
  {
   "cell_type": "code",
   "execution_count": 1,
   "metadata": {},
   "outputs": [],
   "source": [
    "def function_to_minize(variables):\n",
    "    xs = model(*variables)\n",
    "    final_size = xs[-1, -1]\n",
    "    peak = numpy.max(xs[:, 2])\n",
    "    return (final_size-outbreak_final_size)**2 + (peak-epidemic_peak)**2 + (xs[5*30, 2])**2\n",
    "\n",
    "minimize(function_to_minize,\n",
    "         [0.2, 0.05, latent_period, infectious_period],\n",
    "         bounds=[(0, 1), (0.009, 0.5), (2, 18), (10, 16)])"
   ]
  },
  {
   "cell_type": "code",
   "execution_count": 1,
   "metadata": {},
   "outputs": [],
   "source": [
    "interact_function(beta=, at_risk=)"
   ]
  },
  {
   "cell_type": "code",
   "execution_count": 1,
   "metadata": {},
   "outputs": [],
   "source": [
    "def function_to_minize(variables):\n",
    "    xs = model(*variables)\n",
    "    final_size = xs[-1, -1]\n",
    "    peak = numpy.max(xs[:, 2])\n",
    "    return (final_size-outbreak_final_size)**2 + 10*(peak-epidemic_peak)**2 + 10*(xs[5*30, 2])**2\n",
    "\n",
    "minimize(function_to_minize,\n",
    "         [0.2, 0.05, latent_period, infectious_period],\n",
    "         bounds=[(0, 1), (0.009, 0.5), (2, 18), (10, 16)])"
   ]
  },
  {
   "cell_type": "code",
   "execution_count": 1,
   "metadata": {},
   "outputs": [],
   "source": [
    "interact_function(beta=, at_risk=)"
   ]
  }
 ],
 "metadata": {
  "kernelspec": {
   "display_name": "Python 3",
   "language": "python",
   "name": "python3"
  },
  "language_info": {
   "codemirror_mode": {
    "name": "ipython",
    "version": 3
   },
   "file_extension": ".py",
   "mimetype": "text/x-python",
   "name": "python",
   "nbconvert_exporter": "python",
   "pygments_lexer": "ipython3",
   "version": "3.5.0"
  },
  "org": null
 },
 "nbformat": 4,
 "nbformat_minor": 1
}
